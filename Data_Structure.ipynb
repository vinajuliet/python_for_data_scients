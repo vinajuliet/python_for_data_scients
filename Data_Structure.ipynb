{
  "nbformat": 4,
  "nbformat_minor": 0,
  "metadata": {
    "colab": {
      "provenance": [],
      "include_colab_link": true
    },
    "kernelspec": {
      "name": "python3",
      "display_name": "Python 3"
    },
    "language_info": {
      "name": "python"
    }
  },
  "cells": [
    {
      "cell_type": "markdown",
      "metadata": {
        "id": "view-in-github",
        "colab_type": "text"
      },
      "source": [
        "<a href=\"https://colab.research.google.com/github/vinajuliet/python_for_data_scients/blob/main/Salinan_dari_Data_Structure.ipynb\" target=\"_parent\"><img src=\"https://colab.research.google.com/assets/colab-badge.svg\" alt=\"Open In Colab\"/></a>"
      ]
    },
    {
      "cell_type": "markdown",
      "source": [
        "**@create By : Dede Brahma Arianto S.Kom., M.Kom**"
      ],
      "metadata": {
        "id": "MU4qN62lc24R"
      }
    },
    {
      "cell_type": "markdown",
      "source": [
        "# Data Structure"
      ],
      "metadata": {
        "id": "VXLlID47IxlR"
      }
    },
    {
      "cell_type": "markdown",
      "source": [
        "## List"
      ],
      "metadata": {
        "id": "4OySn5U4JLFm"
      }
    },
    {
      "cell_type": "code",
      "execution_count": null,
      "metadata": {
        "colab": {
          "base_uri": "https://localhost:8080/"
        },
        "id": "Chq8j7sfISwo",
        "outputId": "829dcd28-a355-4568-e36b-9ff9676edce7"
      },
      "outputs": [
        {
          "output_type": "stream",
          "name": "stdout",
          "text": [
            "kangkung\n",
            "bayam\n",
            "brokoli\n",
            "wortel\n"
          ]
        }
      ],
      "source": [
        "#@title List Declaration\n",
        "\n",
        "sayuran = [\"kangkung\", \"bayam\", \"brokoli\", \"wortel\"]\n",
        "# sayuran = []\n",
        "\n",
        "print(sayuran[0]) # mencetak kangkung\n",
        "print(sayuran[1]) # mencetak bayam\n",
        "print(sayuran[2]) # mencetak brokoli\n",
        "print(sayuran[-1])"
      ]
    },
    {
      "cell_type": "code",
      "source": [
        "lst = [\"string\", 10, 100.5, True, \"bisa diisi apa saja\"]\n",
        "print(type(lst[0])) # mencetak <class 'str'>\n",
        "print(type(lst[1])) # mencetak <class 'int'>\n",
        "print(type(lst[2])) # mencetak <class 'float'>\n",
        "print(type(lst[3])) # mencetak <class 'bool'>"
      ],
      "metadata": {
        "colab": {
          "base_uri": "https://localhost:8080/"
        },
        "id": "EbGVtDrUK9VX",
        "outputId": "a699f37f-b841-4ae0-f1d1-e25249797524"
      },
      "execution_count": null,
      "outputs": [
        {
          "output_type": "stream",
          "name": "stdout",
          "text": [
            "<class 'str'>\n",
            "<class 'int'>\n",
            "<class 'float'>\n",
            "<class 'bool'>\n"
          ]
        }
      ]
    },
    {
      "cell_type": "code",
      "source": [
        "#@title Accessing List Element\n",
        "# start - end (n-1)\n",
        "\n",
        "sayuran = [\"kangkung\", \"bayam\", \"brokoli\", \"kol\", \"sawi\", \"kacang panjang\", \"buncis\", \"timun\"]\n",
        "\n",
        "print(sayuran[1])\n",
        "print(sayuran[2])\n",
        "\n",
        "print(sayuran[-1])\n",
        "print(sayuran[-2])\n",
        "\n",
        "print(sayuran[2:5])\n",
        "print(sayuran[3:])\n",
        "print(sayuran[:3])\n"
      ],
      "metadata": {
        "colab": {
          "base_uri": "https://localhost:8080/"
        },
        "id": "f6w4_zfFJOi_",
        "outputId": "8c2e090f-a473-4150-ebff-682c3c1e12d7"
      },
      "execution_count": null,
      "outputs": [
        {
          "output_type": "stream",
          "name": "stdout",
          "text": [
            "bayam\n",
            "brokoli\n",
            "timun\n",
            "buncis\n",
            "['brokoli', 'kol', 'sawi']\n",
            "['kol', 'sawi', 'kacang panjang', 'buncis', 'timun']\n",
            "['kangkung', 'bayam', 'brokoli']\n"
          ]
        }
      ]
    },
    {
      "cell_type": "code",
      "source": [
        "#@title Check if element exist\n",
        "\n",
        "if  \"salad\" in sayuran:\n",
        "\tprint(\"salad merupakan sayur\")\n",
        "else:\n",
        "\tprint(\"salad bukan sayuran\")\n"
      ],
      "metadata": {
        "colab": {
          "base_uri": "https://localhost:8080/"
        },
        "id": "ewwAyp4CJQdG",
        "outputId": "457e7480-3c5d-4609-beb5-d6eb50b567e6"
      },
      "execution_count": null,
      "outputs": [
        {
          "output_type": "stream",
          "name": "stdout",
          "text": [
            "salad bukan sayuran\n"
          ]
        }
      ]
    },
    {
      "cell_type": "code",
      "source": [
        "#@title Update Element\n",
        "\n",
        "sayuran = [\"kangkung\", \"bayam\", \"brokoli\", \"sawi\", \"jagung\"]\n",
        "sayuran[1] = \"kol\" #update\n",
        "print(sayuran)\n",
        "\n",
        "# sayuran[1:2]\n",
        "# n-1 (1:1)\n",
        "sayuran[1:] = [\"sawi\", \"buncis\"]\n",
        "print(sayuran)\n"
      ],
      "metadata": {
        "colab": {
          "base_uri": "https://localhost:8080/"
        },
        "id": "Uurkfot1JS90",
        "outputId": "04918659-91cc-47b6-fdb2-85bbb971809e"
      },
      "execution_count": null,
      "outputs": [
        {
          "output_type": "stream",
          "name": "stdout",
          "text": [
            "['kangkung', 'kol', 'brokoli', 'sawi', 'jagung']\n",
            "['kangkung', 'sawi', 'buncis']\n"
          ]
        }
      ]
    },
    {
      "cell_type": "code",
      "source": [
        "#@title Add Element in List\n",
        "\n",
        "sayuran = [\"kangkung\", \"bayam\", \"brokoli\"]\n",
        "sayuran.append(\"kol\")\n",
        "print(sayuran)\n",
        "\n",
        "sayuran.insert(1, \"buncis\")\n",
        "print(sayuran)\n",
        "\n",
        "sayuran2 = [\"kacang panjang\", \"timun\"]\n",
        "sayuran.extend(sayuran2)\n",
        "print(sayuran)\n"
      ],
      "metadata": {
        "colab": {
          "base_uri": "https://localhost:8080/"
        },
        "id": "5GTGHAPUJUmS",
        "outputId": "8a4d794d-2e69-492b-f8e7-404fd30ce70f"
      },
      "execution_count": null,
      "outputs": [
        {
          "output_type": "stream",
          "name": "stdout",
          "text": [
            "['kangkung', 'bayam', 'brokoli', 'kol']\n",
            "['kangkung', 'buncis', 'bayam', 'brokoli', 'kol']\n",
            "['kangkung', 'buncis', 'bayam', 'brokoli', 'kol', 'kacang panjang', 'timun']\n"
          ]
        }
      ]
    },
    {
      "cell_type": "code",
      "source": [
        "#@title Remove Element in List\n",
        "# queue dan stack\n",
        "\n",
        "sayuran = [\"kangkung\", \"buncis\", \"bayam\", \"brokoli\", \"kol\", \"kacang panjang\", \"timun\"]\n",
        "sayuran.remove(\"bayam\")\n",
        "print(sayuran)\n",
        "\n",
        "sayuran.pop(1)\n",
        "print(sayuran)\n",
        "sayuran.pop()\n",
        "print(sayuran)\n",
        "\n",
        "del sayuran[0]\n",
        "print(sayuran)\n",
        "\n",
        "sayuran.clear()\n",
        "print(sayuran)\n"
      ],
      "metadata": {
        "colab": {
          "base_uri": "https://localhost:8080/"
        },
        "id": "rA13EZHIJWau",
        "outputId": "9dfee953-bc64-4bbf-8784-414b4b0a011c"
      },
      "execution_count": null,
      "outputs": [
        {
          "output_type": "stream",
          "name": "stdout",
          "text": [
            "['kangkung', 'buncis', 'brokoli', 'kol', 'kacang panjang', 'timun']\n",
            "['kangkung', 'brokoli', 'kol', 'kacang panjang', 'timun']\n",
            "['kangkung', 'brokoli', 'kol', 'kacang panjang']\n",
            "['brokoli', 'kol', 'kacang panjang']\n",
            "[]\n"
          ]
        }
      ]
    },
    {
      "cell_type": "code",
      "source": [
        "#@title List with Operation\n",
        "\n",
        "list_a = [1,2,3]\n",
        "list_b = [4,5,6]\n",
        "\n",
        "hasil_gabung = list_a + list_b\n",
        "hasil_ulang = list_a * 3\n",
        "panjang_list = len(hasil_gabung)\n",
        "cek_elemen = 8 in hasil_gabung\n",
        "\n",
        "\n",
        "print(\"Hasil Gabung:\", hasil_gabung)\n",
        "print(\"Hasil Ulang:\", hasil_ulang)\n",
        "print(\"Panjang List\", panjang_list)\n",
        "print(\"Apakah 4 ada dalam List Gabungan?\", cek_elemen)\n"
      ],
      "metadata": {
        "colab": {
          "base_uri": "https://localhost:8080/"
        },
        "id": "2r6u5sUQJxd8",
        "outputId": "b15dc71a-bd30-4f27-b52f-41b1306ff082"
      },
      "execution_count": null,
      "outputs": [
        {
          "output_type": "stream",
          "name": "stdout",
          "text": [
            "Hasil Gabung: [1, 2, 3, 4, 5, 6]\n",
            "Hasil Ulang: [1, 2, 3, 1, 2, 3, 1, 2, 3]\n",
            "Panjang List 6\n",
            "Apakah 4 ada dalam List Gabungan? False\n"
          ]
        }
      ]
    },
    {
      "cell_type": "code",
      "source": [
        "#@title List Comprehension\n",
        "\n",
        "kuadarat = [x**2 for x in range(1, 6)]\n",
        "genap = [x for x in range(1, 11) if x % 2 == 0]\n",
        "\n",
        "print(\"List Kuadrat:\", kuadarat)\n",
        "print(\"list Genap:\", genap)"
      ],
      "metadata": {
        "colab": {
          "base_uri": "https://localhost:8080/"
        },
        "id": "9g7dB4aCKcis",
        "outputId": "4661b430-dcc0-42cb-b6e0-ed248ab42e44"
      },
      "execution_count": null,
      "outputs": [
        {
          "output_type": "stream",
          "name": "stdout",
          "text": [
            "List Kuadrat: [1, 4, 9, 16, 25]\n",
            "list Genap: [2, 4, 6, 8, 10]\n"
          ]
        }
      ]
    },
    {
      "cell_type": "code",
      "source": [
        "#@title List Copy\n",
        "\n",
        "sayuran = [\"kangkung\", \"bayam\", \"brokoli\"]\n",
        "\n",
        "sayuran.append(\"wortel\")\n",
        "print(\"Sayuran setelah append:\", sayuran)\n",
        "\n",
        "salin_sayuran = sayuran.copy()\n",
        "print(\"List salinan sayuran:\", salin_sayuran)"
      ],
      "metadata": {
        "colab": {
          "base_uri": "https://localhost:8080/"
        },
        "id": "1eTWSfYQMzpS",
        "outputId": "aa3d68e4-002d-40b7-ae13-8d04b39cddaa"
      },
      "execution_count": null,
      "outputs": [
        {
          "output_type": "stream",
          "name": "stdout",
          "text": [
            "Sayuran setelah append: ['kangkung', 'bayam', 'brokoli', 'wortel']\n",
            "List salinan sayuran: ['kangkung', 'bayam', 'brokoli', 'wortel']\n"
          ]
        }
      ]
    },
    {
      "cell_type": "code",
      "source": [
        "#@title List other method\n",
        "sayuran = [\"kangkung\", \"bayam\", \"brokoli\"]\n",
        "\n",
        "hitung_bayam = sayuran.count(\"bayam\")\n",
        "print(\"Jumlah kemunculan bayam:\", hitung_bayam)\n",
        "\n",
        "sayuran.reverse()\n",
        "print(\"Setelah reverse:\", sayuran)\n",
        "\n",
        "# balik_urutan = list(reversed(sayuran))\n",
        "# print(\"Setelah reverse:\", balik_urutan)\n",
        "\n",
        "sayuran.sort()\n",
        "print(\"Setelah sort:\", sayuran)\n",
        "\n",
        "# alphabet_sort = sorted(sayuran)\n",
        "# print(\"Setelah sort:\", alphabet_sort)"
      ],
      "metadata": {
        "colab": {
          "base_uri": "https://localhost:8080/"
        },
        "id": "iOHCpiwQN6QB",
        "outputId": "43f8b948-8808-4f32-ee13-123597bfd673"
      },
      "execution_count": null,
      "outputs": [
        {
          "output_type": "stream",
          "name": "stdout",
          "text": [
            "Jumlah kemunculan bayam: 1\n",
            "Setelah reverse: ['brokoli', 'bayam', 'kangkung']\n",
            "Setelah sort: ['bayam', 'brokoli', 'kangkung']\n"
          ]
        }
      ]
    },
    {
      "cell_type": "markdown",
      "source": [
        "## Dictionary"
      ],
      "metadata": {
        "id": "3-h6KJJRZ6ye"
      }
    },
    {
      "cell_type": "code",
      "source": [
        "#@title Dictionary Declaration\n",
        "\n",
        "dict_kosong = {}\n",
        "dict_harga = {\n",
        "\t\"pensil\": 1000,\n",
        "\t\"pena\": 2000,\n",
        "\t\"penghapus\": 1500,\n",
        "\t\"penggaris\": 10000\n",
        "}\n",
        "\n",
        "dict_siswa = {\n",
        "\t\"nama\": \"Deni\",\n",
        "\t\"umur\": 15,\n",
        "\t\"nilai\": 85\n",
        "}\n",
        "\n",
        "dict_error = {\n",
        "\t\"pensil\": 1000,\n",
        "\t\"pena\": 2000,\n",
        "\t\"pensil\": 1500,\n",
        "\t\"penggaris\": 10000\n",
        "} # dictionary duplikat\n",
        "\n",
        "\n",
        "print(\"dict_kosong:\")\n",
        "print(dict_kosong)\n",
        "print(\"dict_harga:\")\n",
        "print(dict_harga)\n",
        "print(\"dict_siswa:\")\n",
        "print(dict_siswa)\n",
        "print(\"dict_error:\")\n",
        "print(dict_error)\n"
      ],
      "metadata": {
        "id": "tpL1BOirZ8u4",
        "colab": {
          "base_uri": "https://localhost:8080/"
        },
        "outputId": "7b12b971-4bb1-4a87-b495-e80aff6c8d61"
      },
      "execution_count": null,
      "outputs": [
        {
          "output_type": "stream",
          "name": "stdout",
          "text": [
            "dict_kosong:\n",
            "{}\n",
            "dict_harga:\n",
            "{'pensil': 1000, 'pena': 2000, 'penghapus': 1500, 'penggaris': 10000}\n",
            "dict_siswa:\n",
            "{'nama': 'Deni', 'umur': 15, 'nilai': 85}\n",
            "dict_error:\n",
            "{'pensil': 1500, 'pena': 2000, 'penggaris': 10000}\n"
          ]
        }
      ]
    },
    {
      "cell_type": "code",
      "source": [
        "#@title Access Element in Dictionary\n",
        "\n",
        "dict_harga = {\n",
        "\t\"pensil\": 1000,\n",
        "\t\"pena\": 2000,\n",
        "\t\"penghapus\": 1500,\n",
        "\t\"penggaris\": 10000\n",
        "}\n",
        "print(dict_harga[\"pensil\"]) # mencetak 1000\n",
        "print(dict_harga.get(\"pensil\")) # mencetak 1000\n"
      ],
      "metadata": {
        "id": "Xf7F5JZ8aE7O",
        "colab": {
          "base_uri": "https://localhost:8080/"
        },
        "outputId": "790538e3-18b6-49e2-f7aa-f377af5892eb"
      },
      "execution_count": null,
      "outputs": [
        {
          "output_type": "stream",
          "name": "stdout",
          "text": [
            "1000\n",
            "1000\n"
          ]
        }
      ]
    },
    {
      "cell_type": "code",
      "source": [
        "#@title Access Keys in Dictionary\n",
        "\n",
        "key_list = dict_harga.keys()\n",
        "print(key_list)\n",
        "\n",
        "for i in key_list:\n",
        "\tprint(i) # mencetak pensil, pena, penghapus, penggaris\n",
        "\n",
        "value_list = dict_harga.values()\n",
        "for i in value_list:\n",
        "\tprint(i) # mencetak 1000, 2000, 1500, 10000\n"
      ],
      "metadata": {
        "id": "Do_MYT0xaIQK",
        "colab": {
          "base_uri": "https://localhost:8080/"
        },
        "outputId": "93427375-8850-427b-aea7-635165df053a"
      },
      "execution_count": null,
      "outputs": [
        {
          "output_type": "stream",
          "name": "stdout",
          "text": [
            "dict_keys(['pensil', 'pena', 'penghapus', 'penggaris'])\n",
            "pensil\n",
            "pena\n",
            "penghapus\n",
            "penggaris\n",
            "1000\n",
            "2000\n",
            "1500\n",
            "10000\n"
          ]
        }
      ]
    },
    {
      "cell_type": "code",
      "source": [
        "#@title Access Item in Dictionary\n",
        "\n",
        "item_list = dict_harga.items()\n",
        "for key, value in item_list:\n",
        "\tprint(key + \": \" + str(value))\n"
      ],
      "metadata": {
        "id": "QLEX2rVqaKFB",
        "colab": {
          "base_uri": "https://localhost:8080/"
        },
        "outputId": "dbfa8d48-d7dc-4617-b338-60b198e5b75c"
      },
      "execution_count": null,
      "outputs": [
        {
          "output_type": "stream",
          "name": "stdout",
          "text": [
            "pensil: 1000\n",
            "pena: 2000\n",
            "penghapus: 1500\n",
            "penggaris: 10000\n"
          ]
        }
      ]
    },
    {
      "cell_type": "code",
      "source": [
        "#@title Modify Item in Dictionary\n",
        "\n",
        "dict_harga = {\n",
        "\t\"pensil\": 1000,\n",
        "\t\"pena\": 2000,\n",
        "\t\"penghapus\": 1500,\n",
        "\t\"penggaris\": 10000\n",
        "}\n",
        "print(dict_harga)\n",
        "\n",
        "dict_harga[\"bolpen\"] = 5000 # menambah item \"bolpen\": 5000\n",
        "print(dict_harga)\n",
        "\n",
        "dict_harga[\"penghapus\"] = 1600 # merubah harga \"penghapus\" menjadi 1600\n",
        "print(dict_harga)\n",
        "\n",
        "dict_harga.pop(\"penggaris\") # menghapus item \"penggaris\"\n",
        "print(dict_harga)\n",
        "\n",
        "dict_harga.update({\"penggaris\": 5000, \"penghapus\": 1700}) # multiple\n",
        "print(dict_harga)"
      ],
      "metadata": {
        "id": "owtlYMKWaL3a",
        "colab": {
          "base_uri": "https://localhost:8080/"
        },
        "outputId": "9e153a88-72d0-4cc7-c18e-0a7faa86c210"
      },
      "execution_count": null,
      "outputs": [
        {
          "output_type": "stream",
          "name": "stdout",
          "text": [
            "{'pensil': 1000, 'pena': 2000, 'penghapus': 1500, 'penggaris': 10000}\n",
            "{'pensil': 1000, 'pena': 2000, 'penghapus': 1500, 'penggaris': 10000, 'bolpen': 5000}\n",
            "{'pensil': 1000, 'pena': 2000, 'penghapus': 1600, 'penggaris': 10000, 'bolpen': 5000}\n",
            "{'pensil': 1000, 'pena': 2000, 'penghapus': 1600, 'bolpen': 5000}\n",
            "{'pensil': 1000, 'pena': 2000, 'penghapus': 1700, 'bolpen': 5000, 'penggaris': 5000}\n"
          ]
        }
      ]
    },
    {
      "cell_type": "code",
      "source": [
        "#@title Looping in element Dictionary\n",
        "\n",
        "dict_harga = {\n",
        "\t\"pensil\": 1000,\n",
        "\t\"pena\": 2000,\n",
        "\t\"penghapus\": 1500,\n",
        "\t\"penggaris\": 10000\n",
        "}\n",
        "for item in dict_harga:\n",
        "\tprint(item) # mencetak semua key pada dict_harga\n",
        "\n",
        "for x in dict_harga:\n",
        "\tprint(dict_harga[x]) # mencetak semua value pada dict_harga\n"
      ],
      "metadata": {
        "id": "VmZDn5b-aOJ7",
        "colab": {
          "base_uri": "https://localhost:8080/"
        },
        "outputId": "85335183-8c5c-4da0-85aa-e127169a8788"
      },
      "execution_count": null,
      "outputs": [
        {
          "output_type": "stream",
          "name": "stdout",
          "text": [
            "pensil\n",
            "pena\n",
            "penghapus\n",
            "penggaris\n",
            "1000\n",
            "2000\n",
            "1500\n",
            "10000\n"
          ]
        }
      ]
    },
    {
      "cell_type": "code",
      "source": [
        "#@title Duplicating Dictionary\n",
        "\n",
        "dict_harga = {\n",
        "\t\"pensil\": 1000,\n",
        "\t\"pena\": 2000\n",
        "}\n",
        "dict2 = dict_harga.copy()\n",
        "dict3 = dict(dict_harga)\n",
        "\n",
        "print(dict_harga) # mencetak pensil: 1000, pena: 2000\n",
        "print(dict2) # mencetak pensil: 1000, pena: 2000\n",
        "print(dict3) # mencetak pensil: 1000, pena: 2000\n"
      ],
      "metadata": {
        "id": "neMeIVM-aPxs",
        "colab": {
          "base_uri": "https://localhost:8080/"
        },
        "outputId": "70e3261d-d7bd-4475-b6ed-7667c2e78302"
      },
      "execution_count": null,
      "outputs": [
        {
          "output_type": "stream",
          "name": "stdout",
          "text": [
            "{'pensil': 1000, 'pena': 2000}\n",
            "{'pensil': 1000, 'pena': 2000}\n",
            "{'pensil': 1000, 'pena': 2000}\n"
          ]
        }
      ]
    },
    {
      "cell_type": "code",
      "source": [
        "#@title Nested Dictionary\n",
        "\n",
        "dict_kendaraan = {\n",
        "\t\"mobil\": {\n",
        "\t\t\"nama\": \"honda brio\",\n",
        "\t\t\"tahun\": 2015,\n",
        "\t\t\"harga\": 200000000\n",
        "},\n",
        "\"motor\": {\n",
        "\t\"nama\": \"yamaha xsr155\",\n",
        "\t\"tahun\": 2020,\n",
        "\t\"harga\": 35000000\n",
        "}\n",
        "}\n",
        "\n",
        "print(dict_kendaraan)\n"
      ],
      "metadata": {
        "id": "VPeXO1vraRuT",
        "colab": {
          "base_uri": "https://localhost:8080/"
        },
        "outputId": "590173c0-4f97-483c-fb9e-e2dbec3bbbdb"
      },
      "execution_count": null,
      "outputs": [
        {
          "output_type": "stream",
          "name": "stdout",
          "text": [
            "{'mobil': {'nama': 'honda brio', 'tahun': 2015, 'harga': 200000000}, 'motor': {'nama': 'yamaha xsr155', 'tahun': 2020, 'harga': 35000000}}\n"
          ]
        }
      ]
    },
    {
      "cell_type": "markdown",
      "source": [
        "## Tuple"
      ],
      "metadata": {
        "id": "cUCdCb2SScim"
      }
    },
    {
      "cell_type": "code",
      "source": [
        "#@title Tuple Declaration\n",
        "\n",
        "hari = ('Senin', 'Selasa', 'Rabu', 'Kamis', 'Jumat')\n",
        "\n",
        "print(hari)\n",
        "print(hari[0]) # mencetak senin\n",
        "print(hari[1]) # mencetak selasa\n",
        "print(hari[2]) # mencetak rabu"
      ],
      "metadata": {
        "colab": {
          "base_uri": "https://localhost:8080/"
        },
        "id": "SYVLtTJhSeLg",
        "outputId": "c6cedaed-4230-4d71-9eff-a2bcb976dce2"
      },
      "execution_count": null,
      "outputs": [
        {
          "output_type": "stream",
          "name": "stdout",
          "text": [
            "('Senin', 'Selasa', 'Rabu', 'Kamis', 'Jumat')\n",
            "Senin\n",
            "Selasa\n",
            "Rabu\n"
          ]
        }
      ]
    },
    {
      "cell_type": "code",
      "source": [
        "#@title Tuple Update\n",
        "\n",
        "hari = ('Senin', 'Rabu', 'Minggu')\n",
        "\n",
        "y = list(hari)\n",
        "y[1] = \"Selasa\"\n",
        "print(\"Update variabel y:\",y)\n",
        "\n",
        "hari = tuple(y)\n",
        "print(\"Update variabel hari:\",y)"
      ],
      "metadata": {
        "colab": {
          "base_uri": "https://localhost:8080/"
        },
        "id": "v8F5aEm5TnMZ",
        "outputId": "883e2281-9d10-499d-9598-4c714d0346ab"
      },
      "execution_count": null,
      "outputs": [
        {
          "output_type": "stream",
          "name": "stdout",
          "text": [
            "Update variabel y: ['Senin', 'Selasa', 'Minggu']\n",
            "Update variabel hari: ['Senin', 'Selasa', 'Minggu']\n"
          ]
        }
      ]
    },
    {
      "cell_type": "code",
      "source": [
        "#@title Tuple Add\n",
        "\n",
        "hari = ('Senin', 'Selasa')\n",
        "\n",
        "y = list(hari)\n",
        "y[2:4] = ('Rabu', 'Kamis', 'Jumat')\n",
        "add_hari = tuple(y)\n",
        "print(add_hari)"
      ],
      "metadata": {
        "colab": {
          "base_uri": "https://localhost:8080/"
        },
        "id": "_fl4qxPsU_N9",
        "outputId": "396f561c-c37e-4fca-8884-85877b30808c"
      },
      "execution_count": null,
      "outputs": [
        {
          "output_type": "stream",
          "name": "stdout",
          "text": [
            "('Senin', 'Selasa', 'Rabu', 'Kamis', 'Jumat')\n"
          ]
        }
      ]
    },
    {
      "cell_type": "code",
      "source": [
        "y.append(\"Sabtu\")\n",
        "add_hari = tuple(y)\n",
        "print(add_hari)"
      ],
      "metadata": {
        "colab": {
          "base_uri": "https://localhost:8080/"
        },
        "id": "PRn3Wd5yV2F5",
        "outputId": "4860c026-c291-421a-d795-96ac609b74e6"
      },
      "execution_count": null,
      "outputs": [
        {
          "output_type": "stream",
          "name": "stdout",
          "text": [
            "('Senin', 'Selasa', 'Rabu', 'Kamis', 'Jumat', 'Sabtu')\n"
          ]
        }
      ]
    },
    {
      "cell_type": "code",
      "source": [
        "#@title Tuple Remove\n",
        "\n",
        "hari = ('Senin', 'Selasa', 'Rabu', 'Kamis', 'Jumat', 'Sabtu', 'Minggu')\n",
        "\n",
        "y = list(hari)\n",
        "y.remove(y[-1])\n",
        "remove_hari = tuple(y)\n",
        "print(remove_hari)"
      ],
      "metadata": {
        "colab": {
          "base_uri": "https://localhost:8080/"
        },
        "id": "lJLIN1FeYRfC",
        "outputId": "da41fa79-06ba-44a2-ce58-7511e849d495"
      },
      "execution_count": null,
      "outputs": [
        {
          "output_type": "stream",
          "name": "stdout",
          "text": [
            "('Senin', 'Selasa', 'Rabu', 'Kamis', 'Jumat', 'Sabtu')\n"
          ]
        }
      ]
    },
    {
      "cell_type": "markdown",
      "source": [
        "## Set"
      ],
      "metadata": {
        "id": "NiNUshqsZa3u"
      }
    },
    {
      "cell_type": "code",
      "source": [
        "#@title Access Set\n",
        "\n",
        "buah = {'apel', 'jeruk', 'mangga', 'pisang', True, 1, 2}\n",
        "\n",
        "print(\"pisang\" in buah)\n",
        "\n",
        "for item in buah:\n",
        "  print(\"Item dalam buah:\", item)"
      ],
      "metadata": {
        "colab": {
          "base_uri": "https://localhost:8080/"
        },
        "id": "5euzGUDbZhuy",
        "outputId": "66681677-5dc5-46f0-a3f2-8f11a886c89f"
      },
      "execution_count": null,
      "outputs": [
        {
          "output_type": "stream",
          "name": "stdout",
          "text": [
            "True\n",
            "Item dalam buah: True\n",
            "Item dalam buah: 2\n",
            "Item dalam buah: jeruk\n",
            "Item dalam buah: mangga\n",
            "Item dalam buah: pisang\n",
            "Item dalam buah: apel\n"
          ]
        }
      ]
    },
    {
      "cell_type": "code",
      "source": [
        "#@title Add Set\n",
        "\n",
        "buah = {\"apple\", \"banana\", \"cherry\"}\n",
        "\n",
        "buah.add(\"orange\")\n",
        "print(\"Add orange:\", buah)\n",
        "\n",
        "set_2 = (1,2)\n",
        "\n",
        "buah.add(set_2)\n",
        "print(\"Add set_2:\", buah)\n",
        "\n",
        "set_3 = (\"jeruk\", \"apple\", \"semangka\")\n",
        "for item in set_3:\n",
        "  buah.add(item)\n",
        "\n",
        "print(\"Add set_3:\", buah)"
      ],
      "metadata": {
        "colab": {
          "base_uri": "https://localhost:8080/"
        },
        "id": "PbQ-KloFc0Jt",
        "outputId": "c8c9eddf-8333-4853-dc79-3607984c6d39"
      },
      "execution_count": null,
      "outputs": [
        {
          "output_type": "stream",
          "name": "stdout",
          "text": [
            "Add orange: {'apple', 'cherry', 'banana', 'orange'}\n",
            "Add set_2: {'apple', (1, 2), 'banana', 'orange', 'cherry'}\n",
            "Add set_3: {'apple', 'semangka', (1, 2), 'jeruk', 'banana', 'orange', 'cherry'}\n"
          ]
        }
      ]
    },
    {
      "cell_type": "code",
      "source": [
        "#@title Update Set\n",
        "\n",
        "buah = {\"apple\", \"banana\", \"cherry\"}\n",
        "y = {\"pisang\", \"jeruk\"}\n",
        "\n",
        "buah.update(y)\n",
        "print(\"Update y:\", buah)\n",
        "\n",
        "\n",
        "buah_update = {\"apple\", \"mango\", \"cherry\"}\n",
        "buah.update(buah_update)\n",
        "print(\"Update buah_update:\", buah)"
      ],
      "metadata": {
        "colab": {
          "base_uri": "https://localhost:8080/"
        },
        "id": "stbf1rrPfH-n",
        "outputId": "86ff360c-227a-4170-e448-8400dbaff38d"
      },
      "execution_count": null,
      "outputs": [
        {
          "output_type": "stream",
          "name": "stdout",
          "text": [
            "Update y: {'apple', 'banana', 'jeruk', 'cherry', 'pisang'}\n",
            "Update buah_update: {'apple', 'banana', 'jeruk', 'cherry', 'pisang', 'mango'}\n"
          ]
        }
      ]
    },
    {
      "cell_type": "code",
      "source": [
        "#@title Remove Set\n",
        "\n",
        "buah = {\"apple\", \"banana\", \"cherry\", \"mango\", \"orange\"}\n",
        "\n",
        "buah.remove(\"banana\")\n",
        "print(\"Remove buah:\", buah)\n",
        "# print(\"Remove buah:\", buah)"
      ],
      "metadata": {
        "colab": {
          "base_uri": "https://localhost:8080/"
        },
        "id": "YtfZWs3ZSOKJ",
        "outputId": "1f91c8ff-913c-47b5-d86a-77450b496244"
      },
      "execution_count": null,
      "outputs": [
        {
          "output_type": "stream",
          "name": "stdout",
          "text": [
            "Remove buah: {'apple', 'orange', 'cherry', 'mango'}\n"
          ]
        }
      ]
    },
    {
      "cell_type": "markdown",
      "source": [
        "## Soal 1\n",
        "\n",
        "![image.png](data:image/png;base64,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)"
      ],
      "metadata": {
        "id": "JifzNRYhUYEo"
      }
    },
    {
      "cell_type": "markdown",
      "source": [
        "## Soal 2\n",
        "\n",
        "![image.png](data:image/png;base64,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)"
      ],
      "metadata": {
        "id": "s83M6PZyUqbe"
      }
    },
    {
      "cell_type": "markdown",
      "source": [
        "## Soal 3\n",
        "\n",
        "Buat contoh (create, update, delete, for loop) :\n",
        "* List\n",
        "* Dictionary\n",
        "* Tuple\n",
        "* Set"
      ],
      "metadata": {
        "id": "hD_b6hcvU7Xa"
      }
    }
  ]
}
