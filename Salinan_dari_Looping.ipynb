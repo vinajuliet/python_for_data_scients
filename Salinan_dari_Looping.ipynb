{
  "nbformat": 4,
  "nbformat_minor": 0,
  "metadata": {
    "colab": {
      "provenance": [],
      "include_colab_link": true
    },
    "kernelspec": {
      "name": "python3",
      "display_name": "Python 3"
    },
    "language_info": {
      "name": "python"
    }
  },
  "cells": [
    {
      "cell_type": "markdown",
      "metadata": {
        "id": "view-in-github",
        "colab_type": "text"
      },
      "source": [
        "<a href=\"https://colab.research.google.com/github/vinajuliet/python_for_data_scients/blob/main/Salinan_dari_Looping.ipynb\" target=\"_parent\"><img src=\"https://colab.research.google.com/assets/colab-badge.svg\" alt=\"Open In Colab\"/></a>"
      ]
    },
    {
      "cell_type": "markdown",
      "source": [
        "**@create By : Dede Brahma Arianto S.Kom., M.Kom**"
      ],
      "metadata": {
        "id": "hi_pj_UhqFRM"
      }
    },
    {
      "cell_type": "markdown",
      "source": [
        "# Loop Python"
      ],
      "metadata": {
        "id": "7l9N7K9fkh-o"
      }
    },
    {
      "cell_type": "markdown",
      "source": [
        "## String Formatting"
      ],
      "metadata": {
        "id": "Ud88i58ZklXQ"
      }
    },
    {
      "cell_type": "code",
      "execution_count": null,
      "metadata": {
        "colab": {
          "base_uri": "https://localhost:8080/"
        },
        "id": "u2gXL50vkYtL",
        "outputId": "229c6984-ab91-48b5-9de8-126bfc0dab52"
      },
      "outputs": [
        {
          "output_type": "stream",
          "name": "stdout",
          "text": [
            "Nama saya John, dan umur saya 25 tahun\n"
          ]
        }
      ],
      "source": [
        "#@title Add Variable\n",
        "\n",
        "nama = \"John\"\n",
        "umur = 25\n",
        "\n",
        "print(\"Nama saya {}, dan umur saya {} tahun\".format(nama, umur))"
      ]
    },
    {
      "cell_type": "code",
      "source": [
        "#@title f-string\n",
        "\n",
        "nama = \"John\"\n",
        "umur = 25\n",
        "\n",
        "print(f\"Nama saya {nama}, dan umur saya {umur} tahun\")\n"
      ],
      "metadata": {
        "colab": {
          "base_uri": "https://localhost:8080/"
        },
        "id": "NGORU6dzkqgY",
        "outputId": "d3b88448-bdd2-4fb3-a48e-8667ef14c363"
      },
      "execution_count": null,
      "outputs": [
        {
          "output_type": "stream",
          "name": "stdout",
          "text": [
            "Nama saya John, dan umur saya 25 tahun\n"
          ]
        }
      ]
    },
    {
      "cell_type": "code",
      "source": [
        "#@title Print Argument\n",
        "\n",
        "nama = \"John\"\n",
        "umur = 25\n",
        "print(\"Nama saya\", nama, \"dan umur saya\", umur, \"tahun\", sep=\", \", end=\".\\n\")\n"
      ],
      "metadata": {
        "colab": {
          "base_uri": "https://localhost:8080/"
        },
        "id": "B242kc-qksGc",
        "outputId": "310107d2-37db-4b1d-fbeb-d2bd05f56c78"
      },
      "execution_count": null,
      "outputs": [
        {
          "output_type": "stream",
          "name": "stdout",
          "text": [
            "Nama saya, John, dan umur saya, 25, tahun.\n"
          ]
        }
      ]
    },
    {
      "cell_type": "code",
      "source": [
        "#@title str.format_map()\n",
        "\n",
        "data = {\"nama\": \"John\", \"umur\": 25}\n",
        "print(\"Nama saya {nama}, dan umur saya {umur} tahun\".format_map(data))\n"
      ],
      "metadata": {
        "colab": {
          "base_uri": "https://localhost:8080/"
        },
        "id": "Ms7ZHQzVkvE4",
        "outputId": "d05c557f-3491-45e7-d85c-27eae6f9b44e"
      },
      "execution_count": null,
      "outputs": [
        {
          "output_type": "stream",
          "name": "stdout",
          "text": [
            "Nama saya John, dan umur saya 25 tahun\n"
          ]
        }
      ]
    },
    {
      "cell_type": "code",
      "source": [
        "#@title operator % (regular expression/regex)\n",
        "\n",
        "nama = \"John\"\n",
        "jk = \"laki-laki\"\n",
        "umur = 25\n",
        "tinggi = 173\n",
        "\n",
        "print(\"Nama saya %s, dan umur saya %d tahun, saya seorang %s dan tinggi saya %d\" % (nama, umur, jk, tinggi))\n"
      ],
      "metadata": {
        "colab": {
          "base_uri": "https://localhost:8080/"
        },
        "id": "G7QcnoMskx_4",
        "outputId": "8d40e3f3-d8c6-4a45-d581-741917b294b0"
      },
      "execution_count": null,
      "outputs": [
        {
          "output_type": "stream",
          "name": "stdout",
          "text": [
            "Nama saya John, dan umur saya 25 tahun, saya seorang laki-laki dan tinggi saya 173\n"
          ]
        }
      ]
    },
    {
      "cell_type": "markdown",
      "source": [
        "## Looping (Perulangan)"
      ],
      "metadata": {
        "id": "8Qyztvlok13c"
      }
    },
    {
      "cell_type": "code",
      "source": [
        "#@title While\n",
        "\n",
        "hitung = 1\n",
        "\n",
        "while hitung <= 10:\n",
        "    print(hitung)\n",
        "    hitung = hitung + 2\n",
        "    # hitung += 2\n"
      ],
      "metadata": {
        "colab": {
          "base_uri": "https://localhost:8080/"
        },
        "id": "Agu9tWAxk4oj",
        "outputId": "678b4056-bc24-4010-e823-138848dce646"
      },
      "execution_count": null,
      "outputs": [
        {
          "output_type": "stream",
          "name": "stdout",
          "text": [
            "1\n",
            "3\n",
            "5\n",
            "7\n",
            "9\n"
          ]
        }
      ]
    },
    {
      "cell_type": "code",
      "source": [
        "hitung = 1\n",
        "\n",
        "while hitung <= 10:\n",
        "    print(f\"Perulangan ke-{hitung}\")\n",
        "    hitung += 1"
      ],
      "metadata": {
        "colab": {
          "base_uri": "https://localhost:8080/"
        },
        "id": "yjZjLXbilMxo",
        "outputId": "ef15776e-372e-4555-dcc3-e300508638e7"
      },
      "execution_count": null,
      "outputs": [
        {
          "output_type": "stream",
          "name": "stdout",
          "text": [
            "Perulangan ke-1\n",
            "Perulangan ke-2\n",
            "Perulangan ke-3\n",
            "Perulangan ke-4\n",
            "Perulangan ke-5\n",
            "Perulangan ke-6\n",
            "Perulangan ke-7\n",
            "Perulangan ke-8\n",
            "Perulangan ke-9\n",
            "Perulangan ke-10\n"
          ]
        }
      ]
    },
    {
      "cell_type": "code",
      "source": [
        "jawab = 'ya'\n",
        "hitung = 0\n",
        "\n",
        "while(jawab == 'ya'):\n",
        "    hitung += 1\n",
        "    jawab = input(\"Ulang lagi tidak? \")\n",
        "\n",
        "print(f\"Total perulangan: {hitung}\")"
      ],
      "metadata": {
        "colab": {
          "base_uri": "https://localhost:8080/"
        },
        "id": "76WnlkvDxcY5",
        "outputId": "44f73418-825d-4355-965e-f70921ec3167"
      },
      "execution_count": null,
      "outputs": [
        {
          "output_type": "stream",
          "name": "stdout",
          "text": [
            "Ulang lagi tidak? ya\n",
            "Ulang lagi tidak? ya\n",
            "Ulang lagi tidak? ya\n",
            "Ulang lagi tidak? ya\n",
            "Ulang lagi tidak? tidak\n",
            "Total perulangan: 5\n"
          ]
        }
      ]
    },
    {
      "cell_type": "code",
      "source": [
        "#@title While dengan IF\n",
        "\n",
        "hitung = 1\n",
        "n = int(input(\"Masukkan nilai lebih dari 0: \"))\n",
        "\n",
        "while hitung <= n:\n",
        "    if hitung % 2 == 0:\n",
        "        print(f\"Bilangan {hitung} Genap\")\n",
        "        hitung += 1\n",
        "    else:\n",
        "        print(f\"Bilangan {hitung} Ganjil\")\n",
        "        hitung += 1"
      ],
      "metadata": {
        "colab": {
          "base_uri": "https://localhost:8080/"
        },
        "id": "Cs0CT0yPdn_Z",
        "outputId": "ce4d6825-87d1-4cbf-a543-04970073b16c"
      },
      "execution_count": null,
      "outputs": [
        {
          "output_type": "stream",
          "name": "stdout",
          "text": [
            "Masukkan nilai lebih dari 0: 5\n",
            "Bilangan 1 Ganjil\n",
            "Bilangan 2 Genap\n",
            "Bilangan 3 Ganjil\n",
            "Bilangan 4 Genap\n",
            "Bilangan 5 Ganjil\n"
          ]
        }
      ]
    },
    {
      "cell_type": "code",
      "source": [
        "#@title For\n",
        "\n",
        "fruits = [\"apple\", \"banana\", \"cherry\", \"semangka\"]\n",
        "\n",
        "for z in fruits:\n",
        "    print(z)\n"
      ],
      "metadata": {
        "colab": {
          "base_uri": "https://localhost:8080/"
        },
        "id": "5PRFRPc3lfXi",
        "outputId": "04797c86-6d4d-4f50-d23e-4ce30c69aae8"
      },
      "execution_count": null,
      "outputs": [
        {
          "output_type": "stream",
          "name": "stdout",
          "text": [
            "apple\n",
            "banana\n",
            "cherry\n",
            "semangka\n"
          ]
        }
      ]
    },
    {
      "cell_type": "code",
      "source": [
        "buah = [\"apple\", \"banana\", \"cherry\"]\n",
        "\n",
        "for item in buah:\n",
        "    print(\"Item buah saat ini : %s\" % item)\n"
      ],
      "metadata": {
        "colab": {
          "base_uri": "https://localhost:8080/"
        },
        "id": "_31rGxQUlkrS",
        "outputId": "385fa2f8-6dfd-459d-ea8f-682c5bb1b259"
      },
      "execution_count": null,
      "outputs": [
        {
          "output_type": "stream",
          "name": "stdout",
          "text": [
            "Item buah saat ini : apple\n",
            "Item buah saat ini : banana\n",
            "Item buah saat ini : cherry\n"
          ]
        }
      ]
    },
    {
      "cell_type": "code",
      "source": [
        "text = \"Halo \"\n",
        "\n",
        "for char in text:\n",
        "\tprint(char)"
      ],
      "metadata": {
        "colab": {
          "base_uri": "https://localhost:8080/"
        },
        "id": "Nf6xZXGWvB4k",
        "outputId": "bae5dd96-1a47-4cfe-9879-eecb1511128c"
      },
      "execution_count": null,
      "outputs": [
        {
          "output_type": "stream",
          "name": "stdout",
          "text": [
            "H\n",
            "a\n",
            "l\n",
            "o\n",
            " \n"
          ]
        }
      ]
    },
    {
      "cell_type": "markdown",
      "source": [
        "### For Range"
      ],
      "metadata": {
        "id": "ejoVcTQktocq"
      }
    },
    {
      "cell_type": "markdown",
      "source": [
        "Fungsi 'range(n)' akan menghasilkan deret angka mulai dari 0 sampai 'n - 1'"
      ],
      "metadata": {
        "id": "xTpOJvx3tG3b"
      }
    },
    {
      "cell_type": "code",
      "source": [
        "# default start 0\n",
        "\n",
        "for i in range(8):\n",
        "\tprint(i)"
      ],
      "metadata": {
        "colab": {
          "base_uri": "https://localhost:8080/"
        },
        "id": "smramLWQs4PQ",
        "outputId": "5a27e906-92e1-4133-898f-f6c72df275ac"
      },
      "execution_count": null,
      "outputs": [
        {
          "output_type": "stream",
          "name": "stdout",
          "text": [
            "0\n",
            "1\n",
            "2\n",
            "3\n",
            "4\n",
            "5\n",
            "6\n",
            "7\n"
          ]
        }
      ]
    },
    {
      "cell_type": "markdown",
      "source": [
        "Fungsi 'range()' juga dapat digunakan dengan dua atau tiga argumen.\n",
        "\n",
        "Misalnya, 'range(start, stop)' akan menghasilkan angka mulai dari 'start' hingga 'stop - 1'."
      ],
      "metadata": {
        "id": "PEKJN83Mt3ny"
      }
    },
    {
      "cell_type": "code",
      "source": [
        "for i in range(2, 5):\n",
        "\tprint(i)\n"
      ],
      "metadata": {
        "id": "y9_0hqmFtZyN",
        "colab": {
          "base_uri": "https://localhost:8080/"
        },
        "outputId": "14523b9b-a308-4984-9009-7154acb22862"
      },
      "execution_count": null,
      "outputs": [
        {
          "output_type": "stream",
          "name": "stdout",
          "text": [
            "2\n",
            "3\n",
            "4\n"
          ]
        }
      ]
    },
    {
      "cell_type": "markdown",
      "source": [
        "'range(start, stop, step)' akan menghasilkan angka mulai dari 'start', meningkat dengan 'step' di setiap langkah, dan berhenti sebelum 'stop'."
      ],
      "metadata": {
        "id": "yjB1xIJzuJxF"
      }
    },
    {
      "cell_type": "code",
      "source": [
        "for i in range(1, 20, 3):\n",
        "\tprint(i)"
      ],
      "metadata": {
        "id": "TxobTGVVuE0V",
        "colab": {
          "base_uri": "https://localhost:8080/"
        },
        "outputId": "05aecea4-0868-4119-e49c-2a9248e62760"
      },
      "execution_count": null,
      "outputs": [
        {
          "output_type": "stream",
          "name": "stdout",
          "text": [
            "1\n",
            "4\n",
            "7\n",
            "10\n",
            "13\n",
            "16\n",
            "19\n"
          ]
        }
      ]
    },
    {
      "cell_type": "markdown",
      "source": [
        "### For Break"
      ],
      "metadata": {
        "id": "PgMzO5GBvOy6"
      }
    },
    {
      "cell_type": "code",
      "source": [
        "for i in range(10):\n",
        "  print(i)\n",
        "  if i == 7:\n",
        "\t  break"
      ],
      "metadata": {
        "id": "1vVTqNx6vRI8",
        "colab": {
          "base_uri": "https://localhost:8080/"
        },
        "outputId": "955228b4-225f-4130-b502-0b4e319d245a"
      },
      "execution_count": null,
      "outputs": [
        {
          "output_type": "stream",
          "name": "stdout",
          "text": [
            "0\n",
            "1\n",
            "2\n",
            "3\n",
            "4\n",
            "5\n",
            "6\n",
            "7\n"
          ]
        }
      ]
    },
    {
      "cell_type": "code",
      "source": [
        "for i in range (10):\n",
        "  print(i)\n",
        "  if i == 5:\n",
        "    print(\"Nilai i sudah sama dengan 5\")\n",
        "    continue\n"
      ],
      "metadata": {
        "id": "NXEavHOtvrEx",
        "colab": {
          "base_uri": "https://localhost:8080/"
        },
        "outputId": "b7013947-4f8f-49b7-8cef-6b6033da8db3"
      },
      "execution_count": null,
      "outputs": [
        {
          "output_type": "stream",
          "name": "stdout",
          "text": [
            "0\n",
            "1\n",
            "2\n",
            "3\n",
            "4\n",
            "5\n",
            "Nilai i sudah sama dengan 5\n",
            "6\n",
            "7\n",
            "8\n",
            "9\n"
          ]
        }
      ]
    },
    {
      "cell_type": "markdown",
      "source": [
        "### For Else"
      ],
      "metadata": {
        "id": "a7M4JgWWwiBc"
      }
    },
    {
      "cell_type": "code",
      "source": [
        "listKota = [\n",
        "  'Jakarta', 'Surabaya', 'Depok', 'Bekasi', 'Solo',\n",
        "  'Jogjakarta', 'Semarang', 'Makassar'\n",
        "]\n",
        "\n",
        "for item in listKota:\n",
        "  print(item)\n",
        "else:\n",
        "  print('Tidak ada lagi item yang tersisa')"
      ],
      "metadata": {
        "id": "jlv86MhZwjaQ",
        "colab": {
          "base_uri": "https://localhost:8080/"
        },
        "outputId": "5d27ac87-6e3a-48a7-c0a1-c436f7f63faf"
      },
      "execution_count": null,
      "outputs": [
        {
          "output_type": "stream",
          "name": "stdout",
          "text": [
            "Jakarta\n",
            "Surabaya\n",
            "Depok\n",
            "Bekasi\n",
            "Solo\n",
            "Jogjakarta\n",
            "Semarang\n",
            "Makassar\n",
            "Tidak ada lagi item yang tersisa\n"
          ]
        }
      ]
    },
    {
      "cell_type": "code",
      "source": [
        "listKota = [\n",
        "  'Jakarta', 'Surabaya', 'Depok', 'Bekasi', 'Solo',\n",
        "  'Jogjakarta', 'Semarang', 'Makassar'\n",
        "]\n",
        "for index , item in enumerate(listKota):\n",
        "  print(index, item)\n"
      ],
      "metadata": {
        "colab": {
          "base_uri": "https://localhost:8080/"
        },
        "id": "OG0L2OKhSVAm",
        "outputId": "77b2c0ae-a9be-4d34-905d-3e3a2b819d57"
      },
      "execution_count": null,
      "outputs": [
        {
          "output_type": "stream",
          "name": "stdout",
          "text": [
            "0 Jakarta\n",
            "1 Surabaya\n",
            "2 Depok\n",
            "3 Bekasi\n",
            "4 Solo\n",
            "5 Jogjakarta\n",
            "6 Semarang\n",
            "7 Makassar\n"
          ]
        }
      ]
    },
    {
      "cell_type": "code",
      "source": [
        "listKota = [\n",
        "  'Jakarta', 'Surabaya', 'Depok', 'Bekasi', 'Solo',\n",
        "  'Jogjakarta', 'Semarang', 'Makassar'\n",
        "]\n",
        "\n",
        "kotaYangDicari = input('Ketik nama kota yang kamu cari: ')\n",
        "\n",
        "for index, item in enumerate(listKota):\n",
        "  if item.lower() == kotaYangDicari.lower():\n",
        "    print('Kota yang anda cari berada pada indeks', index)\n",
        "    break\n",
        "else:\n",
        "  print('Maaf, kota yang anda cari tidak ada')"
      ],
      "metadata": {
        "id": "3-9OQ-_xwsns",
        "colab": {
          "base_uri": "https://localhost:8080/"
        },
        "outputId": "e5218fa0-1ccf-4f6f-b28e-4c34b15c1d6b"
      },
      "execution_count": null,
      "outputs": [
        {
          "output_type": "stream",
          "name": "stdout",
          "text": [
            "Ketik nama kota yang kamu cari: surabaya\n",
            "Kota yang anda cari berada pada indeks 1\n"
          ]
        }
      ]
    },
    {
      "cell_type": "code",
      "source": [
        "fruit = [\"apel\", \"jeruk\", \"semangka\"]\n",
        "\n",
        "for index, item_buah in enumerate(fruit):\n",
        "  print(index)\n",
        "  print(item_buah)"
      ],
      "metadata": {
        "colab": {
          "base_uri": "https://localhost:8080/"
        },
        "id": "8Nl6HeqDv-ny",
        "outputId": "2af3d9b9-838d-4cb7-e94c-55875ee2a478"
      },
      "execution_count": null,
      "outputs": [
        {
          "output_type": "stream",
          "name": "stdout",
          "text": [
            "0\n",
            "apel\n",
            "1\n",
            "jeruk\n",
            "2\n",
            "semangka\n"
          ]
        }
      ]
    },
    {
      "cell_type": "markdown",
      "source": [
        "### Nested Loop"
      ],
      "metadata": {
        "id": "Rrv_Gmbutuyy"
      }
    },
    {
      "cell_type": "code",
      "source": [
        "for baris in range(1, 6):\n",
        "    for kolom in range(1, 6):\n",
        "        print(f\"Baris{baris}, Kolom{kolom}\")"
      ],
      "metadata": {
        "id": "CDl_L-kJmsw4",
        "colab": {
          "base_uri": "https://localhost:8080/"
        },
        "outputId": "b6d0a402-6e45-4604-f6fc-99a9ce7473ca"
      },
      "execution_count": null,
      "outputs": [
        {
          "output_type": "stream",
          "name": "stdout",
          "text": [
            "Baris1, Kolom1\n",
            "Baris1, Kolom2\n",
            "Baris1, Kolom3\n",
            "Baris1, Kolom4\n",
            "Baris1, Kolom5\n",
            "Baris2, Kolom1\n",
            "Baris2, Kolom2\n",
            "Baris2, Kolom3\n",
            "Baris2, Kolom4\n",
            "Baris2, Kolom5\n",
            "Baris3, Kolom1\n",
            "Baris3, Kolom2\n",
            "Baris3, Kolom3\n",
            "Baris3, Kolom4\n",
            "Baris3, Kolom5\n",
            "Baris4, Kolom1\n",
            "Baris4, Kolom2\n",
            "Baris4, Kolom3\n",
            "Baris4, Kolom4\n",
            "Baris4, Kolom5\n",
            "Baris5, Kolom1\n",
            "Baris5, Kolom2\n",
            "Baris5, Kolom3\n",
            "Baris5, Kolom4\n",
            "Baris5, Kolom5\n"
          ]
        }
      ]
    },
    {
      "cell_type": "markdown",
      "source": [
        "### Reverse Loop"
      ],
      "metadata": {
        "id": "JyUAC-YDzGLk"
      }
    },
    {
      "cell_type": "code",
      "source": [
        "# range(start, end, step)\n",
        "# range(default =0, end)\n",
        "\n",
        "n = 6\n",
        "\n",
        "for num in reversed(range(n+1)):\n",
        "  print(num, end=\" \")"
      ],
      "metadata": {
        "colab": {
          "base_uri": "https://localhost:8080/"
        },
        "id": "UUF0E3ZwxWf7",
        "outputId": "9606e0fc-9906-4ac9-f068-692c4127dcf0"
      },
      "execution_count": null,
      "outputs": [
        {
          "output_type": "stream",
          "name": "stdout",
          "text": [
            "6 5 4 3 2 1 0 "
          ]
        }
      ]
    },
    {
      "cell_type": "code",
      "source": [
        "# menggunakan fungsi reversed\n",
        "N = 6\n",
        "\n",
        "print (\"Hasil reverse : \", end = \" \")\n",
        "for num in reversed(range(N + 1)) :\n",
        "    print(num, end = \" \")"
      ],
      "metadata": {
        "id": "Lkfjup3WzLhH",
        "colab": {
          "base_uri": "https://localhost:8080/"
        },
        "outputId": "225d2d25-8497-4954-da2f-5ad06ba9f986"
      },
      "execution_count": null,
      "outputs": [
        {
          "output_type": "stream",
          "name": "stdout",
          "text": [
            "Hasil reverse :  6 5 4 3 2 1 0 "
          ]
        }
      ]
    },
    {
      "cell_type": "code",
      "source": [
        "# tanpa menggunakan fungsi reversed\n",
        "N = 6\n",
        "\n",
        "print (\"Hasil reverse : \", end = \"\")\n",
        "for num in range(N, -1, -1) :\n",
        "    print(num, end = \" \")"
      ],
      "metadata": {
        "id": "3yg2fpnFzVzq",
        "colab": {
          "base_uri": "https://localhost:8080/"
        },
        "outputId": "d20afa1a-e81e-481a-9e32-dc691afff448"
      },
      "execution_count": null,
      "outputs": [
        {
          "output_type": "stream",
          "name": "stdout",
          "text": [
            "Hasil reverse : 6 5 4 3 2 1 0 "
          ]
        }
      ]
    },
    {
      "cell_type": "code",
      "source": [
        "# menggunakan while\n",
        "N = 6\n",
        "\n",
        "print(\"Hasil reverse : \", end='')\n",
        "while(N >= 0):\n",
        "    print(N, end=' ')\n",
        "    N -= 1"
      ],
      "metadata": {
        "id": "I4myuZMGzk2E",
        "colab": {
          "base_uri": "https://localhost:8080/"
        },
        "outputId": "fc2b1c28-7db5-4a9c-9aa9-120a6d98e63c"
      },
      "execution_count": null,
      "outputs": [
        {
          "output_type": "stream",
          "name": "stdout",
          "text": [
            "Hasil reverse : 6 5 4 3 2 1 0 "
          ]
        }
      ]
    },
    {
      "cell_type": "markdown",
      "source": [
        "## Soal 1\n",
        "\n",
        "Buatlah script yang dapat memberikan output berupa pola segitiga siku-siku berdasarkan jumlah bintang yang diinput. Sebagai contoh:\n",
        "\n",
        "Input:\n",
        "\n",
        "Masukkan tinggi segitiga: 5\n",
        "\n",
        "Output:\n",
        "\n",
        "![image.png](data:image/png;base64,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)"
      ],
      "metadata": {
        "id": "x-ZbbiDXoqfo"
      }
    },
    {
      "cell_type": "markdown",
      "source": [
        "## Soal 2\n",
        "\n",
        "Buatlah script yang dapat memberikan output seperti gambar dibawah ini\n",
        "\n",
        "Output:\n",
        "\n",
        "![image.png](data:image/png;base64,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)"
      ],
      "metadata": {
        "id": "ylBLAJ3v6g-C"
      }
    },
    {
      "cell_type": "markdown",
      "source": [
        "## Soal 3\n",
        "\n",
        "* Buat contoh while yang didalamnya terdapat if-elif-else\n",
        "* Buat Nested loop yang didalamnya terdapat if-else"
      ],
      "metadata": {
        "id": "9iiVZdfwNm1Q"
      }
    }
  ]
}