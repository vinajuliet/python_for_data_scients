{
  "nbformat": 4,
  "nbformat_minor": 0,
  "metadata": {
    "colab": {
      "provenance": [],
      "authorship_tag": "ABX9TyMz2iR2PhyNx5sI03UP+Ten",
      "include_colab_link": true
    },
    "kernelspec": {
      "name": "python3",
      "display_name": "Python 3"
    },
    "language_info": {
      "name": "python"
    }
  },
  "cells": [
    {
      "cell_type": "markdown",
      "metadata": {
        "id": "view-in-github",
        "colab_type": "text"
      },
      "source": [
        "<a href=\"https://colab.research.google.com/github/vinajuliet/python_for_data_scients/blob/main/Pendapatan_Budi.ipynb\" target=\"_parent\"><img src=\"https://colab.research.google.com/assets/colab-badge.svg\" alt=\"Open In Colab\"/></a>"
      ]
    },
    {
      "cell_type": "code",
      "execution_count": 15,
      "metadata": {
        "colab": {
          "base_uri": "https://localhost:8080/"
        },
        "id": "TOCOi4YgOg61",
        "outputId": "39c54106-584a-4fdd-bc1e-a07ed16ec7df"
      },
      "outputs": [
        {
          "output_type": "stream",
          "name": "stdout",
          "text": [
            "Gaji per jam: 50000 Rupiah\n",
            "Jam kerja per minggu: 40\n",
            "Minggu bekerja: 5\n"
          ]
        }
      ],
      "source": [
        "# Diketahui variabel\n",
        "gaji_per_jam = 50000  # Gaji per jam dalam Rupiah\n",
        "jam_per_minggu = 40   # Jam kerja per minggu\n",
        "minggu_bekerja = 5    # Lama waktu bekerja dalam minggu\n",
        "\n",
        "print(\"Gaji per jam:\", gaji_per_jam, \"Rupiah\")\n",
        "print(\"Jam kerja per minggu:\", jam_per_minggu)\n",
        "print(\"Minggu bekerja:\", minggu_bekerja)\n"
      ]
    },
    {
      "cell_type": "code",
      "source": [
        "# 1. Hitung pendapatan Budi selama libur musim panas sebelum pajak\n",
        "pendapatan_sebelum_pajak = gaji_per_jam * jam_per_minggu * minggu_bekerja\n",
        "print(\"1. Pendapatan Budi sebelum pajak:\", pendapatan_sebelum_pajak, \"Rupiah\")\n"
      ],
      "metadata": {
        "colab": {
          "base_uri": "https://localhost:8080/"
        },
        "id": "LYSMfSqkO2p1",
        "outputId": "ea700901-3508-4098-eadd-6f267c22e69d"
      },
      "execution_count": 16,
      "outputs": [
        {
          "output_type": "stream",
          "name": "stdout",
          "text": [
            "1. Pendapatan Budi sebelum pajak: 10000000 Rupiah\n"
          ]
        }
      ]
    },
    {
      "cell_type": "code",
      "source": [
        "# 2. Hitung pendapatan Budi setelah pajak 14%\n",
        "pajak = 0.14\n",
        "pendapatan_setelah_pajak = pendapatan_sebelum_pajak * (1 - pajak)\n",
        "print(\"2. Pendapatan Budi setelah pajak:\", pendapatan_setelah_pajak, \"Rupiah\")\n"
      ],
      "metadata": {
        "colab": {
          "base_uri": "https://localhost:8080/"
        },
        "id": "h--dgNwyPGJo",
        "outputId": "d816cf49-b7e6-4fc2-ecb6-b11b43e2c97f"
      },
      "execution_count": 8,
      "outputs": [
        {
          "output_type": "stream",
          "name": "stdout",
          "text": [
            "2. Pendapatan Budi setelah pajak: 8600000.0 Rupiah\n"
          ]
        }
      ]
    },
    {
      "cell_type": "code",
      "source": [
        "# 3. Jumlah uang yang akan Budi habiskan untuk membeli pakaian dan aksesoris (10% dari pendapatan bersih)\n",
        "uang_pakaian_aksesoris = pendapatan_setelah_pajak * 0.10\n",
        "print(\"3. Jumlah uang untuk pakaian dan aksesoris:\", uang_pakaian_aksesoris, \"Rupiah\")\n"
      ],
      "metadata": {
        "colab": {
          "base_uri": "https://localhost:8080/"
        },
        "id": "YUrfUmGrPZq1",
        "outputId": "48f63c0d-5598-4ba7-a4a9-f6daa80719a7"
      },
      "execution_count": 9,
      "outputs": [
        {
          "output_type": "stream",
          "name": "stdout",
          "text": [
            "3. Jumlah uang untuk pakaian dan aksesoris: 860000.0 Rupiah\n"
          ]
        }
      ]
    },
    {
      "cell_type": "code",
      "source": [
        "# 4. Jumlah uang yang akan Budi habiskan untuk membeli alat tulis (1% dari pendapatan bersih)\n",
        "uang_alat_tulis = pendapatan_setelah_pajak * 0.01\n",
        "print(\"4. Jumlah uang untuk alat tulis:\", uang_alat_tulis, \"Rupiah\")\n"
      ],
      "metadata": {
        "colab": {
          "base_uri": "https://localhost:8080/"
        },
        "id": "gYSBRDIJPivl",
        "outputId": "63dda435-9e7a-48a6-f188-fe11ec493a88"
      },
      "execution_count": 10,
      "outputs": [
        {
          "output_type": "stream",
          "name": "stdout",
          "text": [
            "4. Jumlah uang untuk alat tulis: 86000.0 Rupiah\n"
          ]
        }
      ]
    },
    {
      "cell_type": "code",
      "source": [
        "# Sisa uang setelah membeli pakaian, aksesoris, dan alat tulis\n",
        "sisa_uang = pendapatan_setelah_pajak - uang_pakaian_aksesoris - uang_alat_tulis\n",
        "print(\"Sisa uang setelah pengeluaran:\", sisa_uang, \"Rupiah\")\n"
      ],
      "metadata": {
        "colab": {
          "base_uri": "https://localhost:8080/"
        },
        "id": "My1fa8IuPn00",
        "outputId": "7eee37db-14c1-453e-fca7-95991dac8b79"
      },
      "execution_count": 11,
      "outputs": [
        {
          "output_type": "stream",
          "name": "stdout",
          "text": [
            "Sisa uang setelah pengeluaran: 7654000.0 Rupiah\n"
          ]
        }
      ]
    },
    {
      "cell_type": "code",
      "source": [
        "# 5. Jumlah uang yang akan Budi sedekahkan (25% dari sisa uang)\n",
        "uang_sedekah = sisa_uang * 0.25\n",
        "print(\"5. Jumlah uang yang akan disedekahkan:\", uang_sedekah, \"Rupiah\")\n"
      ],
      "metadata": {
        "colab": {
          "base_uri": "https://localhost:8080/"
        },
        "id": "QQspy7bzP3Hr",
        "outputId": "6b4088c5-4441-486f-b8f7-8bd8ccab0ec5"
      },
      "execution_count": 12,
      "outputs": [
        {
          "output_type": "stream",
          "name": "stdout",
          "text": [
            "5. Jumlah uang yang akan disedekahkan: 1913500.0 Rupiah\n"
          ]
        }
      ]
    },
    {
      "cell_type": "code",
      "source": [
        "# 6. Jumlah uang yang diterima anak yatim (30% dari uang sedekah)\n",
        "uang_anak_yatim = uang_sedekah * 0.30\n",
        "print(\"6. Jumlah uang yang diterima anak yatim:\", uang_anak_yatim, \"Rupiah\")\n"
      ],
      "metadata": {
        "colab": {
          "base_uri": "https://localhost:8080/"
        },
        "id": "Biv7EtXbP-dF",
        "outputId": "6f6b336b-1a00-42c0-eac5-7f78ffac44e9"
      },
      "execution_count": 13,
      "outputs": [
        {
          "output_type": "stream",
          "name": "stdout",
          "text": [
            "6. Jumlah uang yang diterima anak yatim: 574050.0 Rupiah\n"
          ]
        }
      ]
    },
    {
      "cell_type": "code",
      "source": [
        "# 7. Jumlah uang yang diterima kaum dhuafa (sisa dari uang sedekah setelah diberikan ke anak yatim)\n",
        "uang_kaum_dhuafa = uang_sedekah - uang_anak_yatim\n",
        "print(\"7. Jumlah uang yang diterima kaum dhuafa:\", uang_kaum_dhuafa, \"Rupiah\")\n"
      ],
      "metadata": {
        "colab": {
          "base_uri": "https://localhost:8080/"
        },
        "id": "eukSqIe8QEPL",
        "outputId": "2ce2adc5-f2be-440f-e9a9-b1dd3ff0747b"
      },
      "execution_count": 14,
      "outputs": [
        {
          "output_type": "stream",
          "name": "stdout",
          "text": [
            "7. Jumlah uang yang diterima kaum dhuafa: 1339450.0 Rupiah\n"
          ]
        }
      ]
    }
  ]
}