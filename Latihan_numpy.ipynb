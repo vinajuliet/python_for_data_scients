{
  "nbformat": 4,
  "nbformat_minor": 0,
  "metadata": {
    "colab": {
      "provenance": [],
      "authorship_tag": "ABX9TyPjCbujf8EAoq1DGlI0truU",
      "include_colab_link": true
    },
    "kernelspec": {
      "name": "python3",
      "display_name": "Python 3"
    },
    "language_info": {
      "name": "python"
    }
  },
  "cells": [
    {
      "cell_type": "markdown",
      "metadata": {
        "id": "view-in-github",
        "colab_type": "text"
      },
      "source": [
        "<a href=\"https://colab.research.google.com/github/vinajuliet/python_for_data_scients/blob/main/Latihan_numpy.ipynb\" target=\"_parent\"><img src=\"https://colab.research.google.com/assets/colab-badge.svg\" alt=\"Open In Colab\"/></a>"
      ]
    },
    {
      "cell_type": "markdown",
      "source": [
        "## soal 1\n"
      ],
      "metadata": {
        "id": "hLhMBdi1QWyt"
      }
    },
    {
      "cell_type": "code",
      "execution_count": null,
      "metadata": {
        "id": "SosQtlyL7kFG",
        "colab": {
          "base_uri": "https://localhost:8080/"
        },
        "outputId": "4df913eb-0a8d-4901-f8bf-5520fcccbaf9"
      },
      "outputs": [
        {
          "output_type": "stream",
          "name": "stdout",
          "text": [
            "Numpy 1d:\n",
            " [10 20 30 40]\n",
            "\n",
            "Numpy 2d:\n",
            " [[10 20 30 40]\n",
            " [50 60 70 80]]\n",
            "\n",
            "Numpy 3d:\n",
            " [[[ 10  20]\n",
            "  [ 30  40]]\n",
            "\n",
            " [[ 50  60]\n",
            "  [ 70  80]]\n",
            "\n",
            " [[ 90 100]\n",
            "  [110 120]]]\n"
          ]
        }
      ],
      "source": [
        "import numpy as np\n",
        "\n",
        "#numpy 1d\n",
        "arr_1d = np.array([10, 20, 30, 40])\n",
        "print(\"Numpy 1d:\\n\",arr_1d)\n",
        "\n",
        "print()\n",
        "\n",
        "#numpy 2d\n",
        "arr_2d = np.array([[10, 20, 30, 40], [50, 60, 70, 80]])\n",
        "print(\"Numpy 2d:\\n\",arr_2d)\n",
        "\n",
        "print()\n",
        "\n",
        "#numpy 3d\n",
        "arr_3d = np.array([[[10, 20], [30, 40]], [[50, 60], [70, 80]], [[90, 100], [110, 120]]]) # terdiri dari 3 blok (panjang,lebar,tinggi)\n",
        "print(\"Numpy 3d:\\n\",arr_3d)\n",
        "\n"
      ]
    },
    {
      "cell_type": "code",
      "source": [
        "#numpy join\n",
        "\n",
        "import numpy as np\n",
        "\n",
        "arr_1 = np.array([10, 20])\n",
        "arr_2 = np.array([30, 40])\n",
        "\n",
        "arr_joined = np.concatenate((arr_1, arr_2))\n",
        "print(\"Numpy join 2d:\\n\",arr_joined)\n",
        "\n",
        "\n",
        "# Membuat dua array 3D\n",
        "arr_3d_1 = np.array([[[1, 2, 3], [4, 5, 6]], [[7, 8, 9], [10, 11, 12]]])\n",
        "arr_3d_2 = np.array([[[13, 14, 15], [16, 17, 18]], [[19, 20, 21], [22, 23, 24]]])\n",
        "\n",
        "# Menggabungkan dua array 3D menggunakan np.concatenate\n",
        "arr_3d_joined = np.concatenate((arr_3d_1, arr_3d_2),axis=1)#penggabungan dilakukan sepanjang dimensi baris\n",
        "\n",
        "print(\"\\nArray 3D setelah join:\\n\", arr_3d_joined)"
      ],
      "metadata": {
        "colab": {
          "base_uri": "https://localhost:8080/"
        },
        "id": "erKHx49DhH1s",
        "outputId": "69673476-72fc-48b2-a7c5-9b3b4d5fdeee"
      },
      "execution_count": null,
      "outputs": [
        {
          "output_type": "stream",
          "name": "stdout",
          "text": [
            "Numpy join 2d:\n",
            " [10 20 30 40]\n",
            "\n",
            "Array 3D setelah join:\n",
            " [[[ 1  2  3]\n",
            "  [ 4  5  6]\n",
            "  [13 14 15]\n",
            "  [16 17 18]]\n",
            "\n",
            " [[ 7  8  9]\n",
            "  [10 11 12]\n",
            "  [19 20 21]\n",
            "  [22 23 24]]]\n"
          ]
        }
      ]
    },
    {
      "cell_type": "code",
      "source": [
        "#numply split\n",
        "\n",
        "import numpy as np\n",
        "\n",
        "arr_split = np.array([10, 20, 30, 40, 50, 60])\n",
        "\n",
        "split_arr = np.array_split(arr_split, 2)\n",
        "print(split_arr)\n"
      ],
      "metadata": {
        "colab": {
          "base_uri": "https://localhost:8080/"
        },
        "id": "gw9VHGethUbN",
        "outputId": "d4b04a63-4bb7-49b2-ad19-12d54ef206ab"
      },
      "execution_count": null,
      "outputs": [
        {
          "output_type": "stream",
          "name": "stdout",
          "text": [
            "[array([10, 20, 30]), array([40, 50, 60])]\n"
          ]
        }
      ]
    },
    {
      "cell_type": "code",
      "source": [
        "#numpy operasi matriks\n",
        "import numpy as np\n",
        "\n",
        "A = np.array([[10, 20], [30, 40]])\n",
        "B = np.array([[5, 10], [15, 20]])\n",
        "\n",
        "C = A - B\n",
        "print(C)\n",
        "D = A * B\n",
        "print(D)\n"
      ],
      "metadata": {
        "colab": {
          "base_uri": "https://localhost:8080/"
        },
        "id": "JJaqw6nPh89L",
        "outputId": "ef10a3f4-060a-44ef-a912-70ec942b3bc5"
      },
      "execution_count": null,
      "outputs": [
        {
          "output_type": "stream",
          "name": "stdout",
          "text": [
            "[[ 5 10]\n",
            " [15 20]]\n",
            "[[ 50 200]\n",
            " [450 800]]\n"
          ]
        }
      ]
    },
    {
      "cell_type": "markdown",
      "source": [
        "## soal 2\n"
      ],
      "metadata": {
        "id": "fMzR9bs0iPYL"
      }
    },
    {
      "cell_type": "code",
      "source": [
        "#Buatlah numpy array dengan matrik ukuran 3x4 dan range array 10-30\n",
        "\n",
        "import numpy as np\n",
        "\n",
        "arr = np.arange(10, 30).reshape(4,5)\n",
        "print(arr)\n",
        "\n",
        "\n",
        "#Kemudian lakukan flatten\n",
        "arr_flatten = arr.flatten()\n",
        "print(arr_flatten)\n",
        "\n",
        "#cari nilai statistik (mean, median, dsb)\n",
        "mean_val = np.mean(arr)\n",
        "median_val = np.median(arr)\n",
        "var_val = np.var(arr)\n",
        "sum_val = np.sum(arr)\n",
        "\n",
        "print(f\"Mean: {mean_val}\")\n",
        "print(f\"Median: {median_val}\")\n",
        "print(f\"Variance: {var_val}\")\n",
        "print(f\"Sum: {sum_val}\")\n",
        "\n",
        "\n"
      ],
      "metadata": {
        "colab": {
          "base_uri": "https://localhost:8080/"
        },
        "id": "1i4P1Z6LiT87",
        "outputId": "503784e3-24f0-43c8-cfa8-186d1212d173"
      },
      "execution_count": null,
      "outputs": [
        {
          "output_type": "stream",
          "name": "stdout",
          "text": [
            "[[10 11 12 13 14]\n",
            " [15 16 17 18 19]\n",
            " [20 21 22 23 24]\n",
            " [25 26 27 28 29]]\n",
            "[10 11 12 13 14 15 16 17 18 19 20 21 22 23 24 25 26 27 28 29]\n",
            "Mean: 19.5\n",
            "Median: 19.5\n",
            "Variance: 33.25\n",
            "Sum: 390\n"
          ]
        }
      ]
    }
  ]
}